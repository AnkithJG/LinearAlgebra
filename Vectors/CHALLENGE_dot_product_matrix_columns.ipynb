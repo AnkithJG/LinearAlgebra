{
 "cells": [
  {
   "cell_type": "code",
   "execution_count": 1,
   "id": "initial_id",
   "metadata": {
    "collapsed": true,
    "ExecuteTime": {
     "end_time": "2023-12-02T15:40:01.817273200Z",
     "start_time": "2023-12-02T15:39:58.936549400Z"
    }
   },
   "outputs": [],
   "source": [
    "import numpy as np\n",
    "import matplotlib.pyplot as plt\n",
    "from mpl_toolkits.mplot3d import Axes3D"
   ]
  },
  {
   "cell_type": "code",
   "execution_count": 3,
   "outputs": [
    {
     "name": "stdout",
     "output_type": "stream",
     "text": [
      "[ 1.64312354 -0.17384264  1.41849813 -0.63415911 -0.47477675 -0.25740329]\n"
     ]
    }
   ],
   "source": [
    "a = np.random.randn(4, 6)\n",
    "b = np.random.randn(4, 6)\n",
    "\n",
    "ret = np.zeros(6)\n",
    "for i in range(6):\n",
    "    res = np.dot(a[:,i], b[:,i])\n",
    "    ret[i] = res\n",
    "    \n",
    "print(ret)"
   ],
   "metadata": {
    "collapsed": false,
    "ExecuteTime": {
     "end_time": "2023-12-02T15:49:18.636924200Z",
     "start_time": "2023-12-02T15:49:18.610869500Z"
    }
   },
   "id": "a246d02d8ad1f7b9"
  },
  {
   "cell_type": "code",
   "execution_count": null,
   "outputs": [],
   "source": [],
   "metadata": {
    "collapsed": false
   },
   "id": "d207dc0ff04d9d54"
  }
 ],
 "metadata": {
  "kernelspec": {
   "display_name": "Python 3",
   "language": "python",
   "name": "python3"
  },
  "language_info": {
   "codemirror_mode": {
    "name": "ipython",
    "version": 2
   },
   "file_extension": ".py",
   "mimetype": "text/x-python",
   "name": "python",
   "nbconvert_exporter": "python",
   "pygments_lexer": "ipython2",
   "version": "2.7.6"
  }
 },
 "nbformat": 4,
 "nbformat_minor": 5
}
