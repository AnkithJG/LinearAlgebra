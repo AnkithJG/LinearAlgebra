{
 "cells": [
  {
   "cell_type": "code",
   "execution_count": 1,
   "id": "initial_id",
   "metadata": {
    "collapsed": true,
    "ExecuteTime": {
     "end_time": "2023-12-02T18:39:25.695987100Z",
     "start_time": "2023-12-02T18:39:25.023009300Z"
    }
   },
   "outputs": [],
   "source": [
    "import numpy as np\n",
    "import matplotlib.pyplot as plt\n",
    "from mpl_toolkits.mplot3d import Axes3D"
   ]
  },
  {
   "cell_type": "code",
   "execution_count": 2,
   "outputs": [
    {
     "name": "stdout",
     "output_type": "stream",
     "text": [
      "9.539392014169456 9.539392014169456\n"
     ]
    }
   ],
   "source": [
    "v1 = np.array([1, 2, 3, 4, 5, 6])\n",
    "\n",
    "vl1 = np.sqrt(sum(np.multiply(v1, v1)))\n",
    "\n",
    "# take the norm\n",
    "vl2 = np.linalg.norm(v1)\n",
    "\n",
    "print(vl1, vl2)"
   ],
   "metadata": {
    "collapsed": false,
    "ExecuteTime": {
     "end_time": "2023-12-02T18:41:04.234116200Z",
     "start_time": "2023-12-02T18:41:04.204836500Z"
    }
   },
   "id": "803d8a9bb0bf22f9"
  },
  {
   "cell_type": "code",
   "execution_count": null,
   "outputs": [],
   "source": [],
   "metadata": {
    "collapsed": false
   },
   "id": "50b1134cfc392de2"
  }
 ],
 "metadata": {
  "kernelspec": {
   "display_name": "Python 3",
   "language": "python",
   "name": "python3"
  },
  "language_info": {
   "codemirror_mode": {
    "name": "ipython",
    "version": 2
   },
   "file_extension": ".py",
   "mimetype": "text/x-python",
   "name": "python",
   "nbconvert_exporter": "python",
   "pygments_lexer": "ipython2",
   "version": "2.7.6"
  }
 },
 "nbformat": 4,
 "nbformat_minor": 5
}
