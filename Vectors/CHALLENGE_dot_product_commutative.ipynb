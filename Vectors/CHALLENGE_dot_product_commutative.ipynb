{
 "cells": [
  {
   "cell_type": "code",
   "execution_count": 1,
   "id": "initial_id",
   "metadata": {
    "collapsed": true,
    "ExecuteTime": {
     "end_time": "2023-12-02T15:54:28.106308500Z",
     "start_time": "2023-12-02T15:54:27.600938Z"
    }
   },
   "outputs": [],
   "source": [
    "import numpy as np\n",
    "import matplotlib.pyplot as plt\n",
    "from mpl_toolkits.mplot3d import Axes3D"
   ]
  },
  {
   "cell_type": "code",
   "execution_count": 4,
   "outputs": [
    {
     "name": "stdout",
     "output_type": "stream",
     "text": [
      "6.574833641919337\n",
      "||\n",
      "6.574833641919337\n",
      "\n",
      "50\n",
      "||\n",
      "50\n"
     ]
    }
   ],
   "source": [
    "a = np.random.randn(100)\n",
    "b = np.random.randn(100)\n",
    "\n",
    "res1 = np.dot(a, b)\n",
    "res2 = np.dot(b, a)\n",
    "\n",
    "print(res1)\n",
    "print(\"||\")\n",
    "print(res2)\n",
    "print(\"\")\n",
    "c = [4, 7]\n",
    "d = [9, 2]\n",
    "\n",
    "ret1 = np.dot(c, d)\n",
    "ret2 = np.dot(d, c)\n",
    "\n",
    "print(ret1)\n",
    "print(\"||\")\n",
    "print(ret2)"
   ],
   "metadata": {
    "collapsed": false,
    "ExecuteTime": {
     "end_time": "2023-12-02T16:00:19.835109900Z",
     "start_time": "2023-12-02T16:00:19.818910Z"
    }
   },
   "id": "e3b2152e4ae6d1d5"
  },
  {
   "cell_type": "code",
   "execution_count": null,
   "outputs": [],
   "source": [],
   "metadata": {
    "collapsed": false
   },
   "id": "2c735d84f357867d"
  }
 ],
 "metadata": {
  "kernelspec": {
   "display_name": "Python 3",
   "language": "python",
   "name": "python3"
  },
  "language_info": {
   "codemirror_mode": {
    "name": "ipython",
    "version": 2
   },
   "file_extension": ".py",
   "mimetype": "text/x-python",
   "name": "python",
   "nbconvert_exporter": "python",
   "pygments_lexer": "ipython2",
   "version": "2.7.6"
  }
 },
 "nbformat": 4,
 "nbformat_minor": 5
}
