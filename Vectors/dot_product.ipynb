{
 "cells": [
  {
   "cell_type": "code",
   "execution_count": 1,
   "id": "initial_id",
   "metadata": {
    "collapsed": true,
    "ExecuteTime": {
     "end_time": "2023-11-28T01:57:30.264347200Z",
     "start_time": "2023-11-28T01:57:29.833970200Z"
    }
   },
   "outputs": [],
   "source": [
    "import numpy as np\n",
    "import matplotlib.pyplot as plt\n",
    "from mpl_toolkits.mplot3d import Axes3D"
   ]
  },
  {
   "cell_type": "code",
   "execution_count": 8,
   "outputs": [
    {
     "name": "stdout",
     "output_type": "stream",
     "text": [
      "32 32 32 32\n"
     ]
    }
   ],
   "source": [
    "## many ways to compute the dot product\n",
    "\n",
    "v1 = np.array([ 1, 2, 3, 4, 5 ])\n",
    "v2 = np.array([ 0, -4, -3, 6, 5 ])\n",
    "\n",
    "# method 1\n",
    "dp1 = sum(np.multiply(v1,v2))\n",
    "\n",
    "# method 2\n",
    "dp2 = np.dot( v1,v2 )\n",
    "\n",
    "# method 3\n",
    "dp3 = np.matmul( v1,v2 )\n",
    "\n",
    "# method 4\n",
    "dp4 = 0  # initialize\n",
    "\n",
    "# loop over elements\n",
    "for i in range(len(v1)):\n",
    "    \n",
    "    # multiply corresponding element and sum\n",
    "    dp4 = dp4 + v1[i]*v2[i]\n",
    "\n",
    "\n",
    "print(dp1,dp2,dp3,dp4)"
   ],
   "metadata": {
    "collapsed": false,
    "ExecuteTime": {
     "end_time": "2023-11-28T02:02:06.386102Z",
     "start_time": "2023-11-28T02:02:06.359212800Z"
    }
   },
   "id": "23e550c8cc3534e2"
  },
  {
   "cell_type": "code",
   "execution_count": null,
   "outputs": [],
   "source": [],
   "metadata": {
    "collapsed": false
   },
   "id": "dbf459889e06450b"
  }
 ],
 "metadata": {
  "kernelspec": {
   "display_name": "Python 3",
   "language": "python",
   "name": "python3"
  },
  "language_info": {
   "codemirror_mode": {
    "name": "ipython",
    "version": 2
   },
   "file_extension": ".py",
   "mimetype": "text/x-python",
   "name": "python",
   "nbconvert_exporter": "python",
   "pygments_lexer": "ipython2",
   "version": "2.7.6"
  }
 },
 "nbformat": 4,
 "nbformat_minor": 5
}
