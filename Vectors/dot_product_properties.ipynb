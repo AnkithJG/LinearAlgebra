{
 "cells": [
  {
   "cell_type": "code",
   "execution_count": 1,
   "id": "initial_id",
   "metadata": {
    "collapsed": true,
    "ExecuteTime": {
     "end_time": "2023-11-30T01:33:44.255015700Z",
     "start_time": "2023-11-30T01:33:41.211659200Z"
    }
   },
   "outputs": [],
   "source": [
    "import numpy as np\n",
    "import matplotlib.pyplot as plt\n",
    "from mpl_toolkits.mplot3d import Axes3D"
   ]
  },
  {
   "cell_type": "code",
   "execution_count": 2,
   "outputs": [
    {
     "name": "stdout",
     "output_type": "stream",
     "text": [
      "[-4.648659982177674, -4.6486599821776755]\n"
     ]
    }
   ],
   "source": [
    "# Distributive Property\n",
    "\n",
    "# create random vectors\n",
    "n = 10\n",
    "a = np.random.randn(n)\n",
    "b = np.random.randn(n)\n",
    "c = np.random.randn(n)\n",
    "\n",
    "res1 = np.dot(a, (b + c))\n",
    "res2 = np.dot(a, b) + np.dot(a, c)\n",
    "\n",
    "print([res1, res2])"
   ],
   "metadata": {
    "collapsed": false,
    "ExecuteTime": {
     "end_time": "2023-11-30T01:35:45.582775600Z",
     "start_time": "2023-11-30T01:35:45.559569500Z"
    }
   },
   "id": "9f1e0b79e9ac0440"
  },
  {
   "cell_type": "code",
   "execution_count": 3,
   "outputs": [
    {
     "name": "stdout",
     "output_type": "stream",
     "text": [
      "[-0.38601763 -0.32490973 -1.66132387 -0.17658475  0.98775672]\n",
      "[-0.00307364  0.11229095  0.00581209 -0.08898572  0.07959066]\n"
     ]
    }
   ],
   "source": [
    "## Associative property\n",
    "\n",
    "# create random vectors\n",
    "n = 5\n",
    "a = np.random.randn(n)\n",
    "b = np.random.randn(n)\n",
    "c = np.random.randn(n)\n",
    "\n",
    "# the two results\n",
    "res1 = np.dot( a , np.dot(b,c) )\n",
    "res2 = np.dot( np.dot(a,b) , c )\n",
    "\n",
    "# compare them\n",
    "print(res1)\n",
    "print(res2)\n",
    "\n",
    "\n",
    "### special cases where associative property works!\n",
    "# 1) one vector is the zeros vector\n",
    "# 2) a==b==c"
   ],
   "metadata": {
    "collapsed": false,
    "ExecuteTime": {
     "end_time": "2023-11-30T01:38:26.983702400Z",
     "start_time": "2023-11-30T01:38:26.960722900Z"
    }
   },
   "id": "945adbbba5b1d327"
  },
  {
   "cell_type": "code",
   "execution_count": null,
   "outputs": [],
   "source": [],
   "metadata": {
    "collapsed": false
   },
   "id": "c4a248233f344fda"
  }
 ],
 "metadata": {
  "kernelspec": {
   "display_name": "Python 3",
   "language": "python",
   "name": "python3"
  },
  "language_info": {
   "codemirror_mode": {
    "name": "ipython",
    "version": 2
   },
   "file_extension": ".py",
   "mimetype": "text/x-python",
   "name": "python",
   "nbconvert_exporter": "python",
   "pygments_lexer": "ipython2",
   "version": "2.7.6"
  }
 },
 "nbformat": 4,
 "nbformat_minor": 5
}
